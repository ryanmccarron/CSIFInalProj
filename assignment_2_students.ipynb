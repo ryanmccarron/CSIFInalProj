{
 "cells": [
  {
   "cell_type": "code",
   "execution_count": 4,
   "metadata": {},
   "outputs": [
    {
     "data": {
      "text/plain": [
       "Reusing TensorBoard on port 6006 (pid 25096), started 5 days, 2:23:44 ago. (Use '!kill 25096' to kill it.)"
      ]
     },
     "metadata": {},
     "output_type": "display_data"
    },
    {
     "data": {
      "text/html": [
       "\n",
       "      <iframe id=\"tensorboard-frame-a6cf7df3558b88dc\" width=\"100%\" height=\"800\" frameborder=\"0\">\n",
       "      </iframe>\n",
       "      <script>\n",
       "        (function() {\n",
       "          const frame = document.getElementById(\"tensorboard-frame-a6cf7df3558b88dc\");\n",
       "          const url = new URL(\"http://localhost\");\n",
       "          const port = 6006;\n",
       "          if (port) {\n",
       "            url.port = port;\n",
       "          }\n",
       "          frame.src = url;\n",
       "        })();\n",
       "      </script>\n",
       "    "
      ],
      "text/plain": [
       "<IPython.core.display.HTML object>"
      ]
     },
     "metadata": {},
     "output_type": "display_data"
    }
   ],
   "source": [
    "import numpy as np\n",
    "import pandas as pd\n",
    "import random as python_random\n",
    "import shutil\n",
    "import os\n",
    "import datetime\n",
    "from PIL import Image\n",
    "from multiprocessing import cpu_count\n",
    "from joblib import Parallel, delayed\n",
    "from collections import Counter\n",
    "from matplotlib import pyplot as plt\n",
    "from sklearn.model_selection import StratifiedShuffleSplit, train_test_split\n",
    "from sklearn.metrics import classification_report, confusion_matrix, mean_absolute_error\n",
    "\n",
    "import tensorflow as tf\n",
    "from tensorflow import keras\n",
    "from tensorflow.keras import layers\n",
    "from tensorflow.keras.preprocessing.image import ImageDataGenerator\n",
    "\n",
    "# for reproducibility purposes\n",
    "SEED = 123\n",
    "tf.random.set_seed(SEED)\n",
    "\n",
    "# load tensorboard extension\n",
    "%reload_ext tensorboard\n",
    "# specify the log directory where the tensorboard logs will be written\n",
    "%tensorboard --logdir logs"
   ]
  },
  {
   "cell_type": "markdown",
   "metadata": {},
   "source": [
    "#### Loading the relevant datasets (15/100)"
   ]
  },
  {
   "cell_type": "code",
   "execution_count": 5,
   "metadata": {},
   "outputs": [
    {
     "name": "stdout",
     "output_type": "stream",
     "text": [
      "Training Shape: \n",
      " (11040, 2)\n",
      "['image_path' 'target']\n",
      "Testing Shape: \n",
      " (2760, 2)\n",
      "['image_path' 'target']\n",
      "Label Dimensionality: \n",
      " (13800, 2)\n"
     ]
    },
    {
     "data": {
      "text/plain": [
       "Text(0.5, 0, 'target')"
      ]
     },
     "execution_count": 5,
     "metadata": {},
     "output_type": "execute_result"
    },
    {
     "data": {
      "image/png": "[encoded data removed]",
      "text/plain": [
       "<Figure size 576x360 with 1 Axes>"
      ]
     },
     "metadata": {
      "needs_background": "light"
     },
     "output_type": "display_data"
    }
   ],
   "source": [
    "# load the datasets using the csv files train, val and test \n",
    "# (3)\n",
    "# columns remain the same for train, val and test\n",
    "data_columns = ['img_path', 'target']\n",
    "df = pd.read_csv('input/data.csv')\n",
    "\n",
    "training_data = df.sample(frac=0.8, random_state=25)\n",
    "testing_data = df.drop(training_data.index)\n",
    "\n",
    "# print the shapes of the dataframes \n",
    "# (3)\n",
    "print(\"Training Shape: \\n\", training_data.shape)\n",
    "print(df.columns.values)\n",
    "\n",
    "print(\"Testing Shape: \\n\", testing_data.shape)\n",
    "print(df.columns.values)\n",
    "# print the column names from either one of the dataframes \n",
    "# (1)\n",
    "\n",
    "print(\"Label Dimensionality: \\n\", df.shape)\n",
    "\n",
    "# plot the age distribution from the training dataset where the x-axis plots the age and the y-axis depicts the count of individuals within each age group. For example, individuals with age=1 are: \n",
    "# (2)\n",
    "\n",
    "che_hist = df['target'].plot.hist(title=\"Distribution\", figsize=(8,5), bins=100)\n",
    "che_hist.set_xlabel(\"target\")"
   ]
  },
  {
   "cell_type": "markdown",
   "metadata": {},
   "source": [
    "#### Create the ImageDataGenerators (22/100)"
   ]
  },
  {
   "cell_type": "code",
   "execution_count": 6,
   "metadata": {},
   "outputs": [
    {
     "name": "stdout",
     "output_type": "stream",
     "text": [
      "Found 10620 images belonging to 22 classes.\n",
      "Found 2644 images belonging to 22 classes.\n",
      "Found 1106 images belonging to 22 classes.\n"
     ]
    }
   ],
   "source": [
    "# ImageDataGenerator is an iterator.\n",
    "\n",
    "# specify the batch size hyperparameter. You can experiment with different batch sizes\n",
    "batch_size = 16\n",
    "\n",
    "# create the ImageDataGenerator with rescaling that will generate batched tensors representing images with real-time data augmentation\n",
    "# use at least two of the augmentation strategies. For example, fill_mode='nearest'\n",
    "# please refer: https://www.tensorflow.org/api_docs/python/tf/keras/preprocessing/image/ImageDataGenerator\n",
    "# (3)\n",
    "train_img_gen = ImageDataGenerator(\n",
    "   # imported all possible values here and set ones we wont use to default\n",
    "    featurewise_center=False,\n",
    "    samplewise_center=False,\n",
    "    featurewise_std_normalization=False,\n",
    "    samplewise_std_normalization=False,\n",
    "    zca_whitening=False,\n",
    "    zca_epsilon=1e-06,\n",
    "    rotation_range=0,\n",
    "    width_shift_range=0.0,\n",
    "    height_shift_range=0.0,\n",
    "    brightness_range=None,\n",
    "    shear_range=0.0,\n",
    "    zoom_range=0.0,\n",
    "    channel_shift_range=0.0,\n",
    "    # fill mode augmentation, at its default currently (nearest)\n",
    "    fill_mode='nearest',\n",
    "    cval=0.0,\n",
    "    # twoaugmentations randomly flip horizontally and vertically\n",
    "    horizontal_flip=True,\n",
    "    vertical_flip=True,\n",
    "    #rescaling change this value as we need to, unsure what we want it to be set to at the moment\n",
    "    rescale=1,\n",
    "    preprocessing_function=None,\n",
    "    data_format=None,\n",
    "    validation_split=0.2,\n",
    "    dtype=None\n",
    ")\n",
    "\n",
    "\n",
    "# use the method \"flow_from_dataframe\" from the \"ImageDataGenerator\" instance to link the image folder and the dataframe.\n",
    "# also include the, batch size, image size and the seed.\n",
    "# make sure to include the following arguments\n",
    "# color_mode='grayscale', class_mode='multi_output'\n",
    "# please refer: https://www.tensorflow.org/api_docs/python/tf/keras/preprocessing/image/ImageDataGenerator\n",
    "# (5)\n",
    "\n",
    "flowfromframeTrain = train_img_gen.flow_from_directory(\n",
    "    directory='./input/train',\n",
    "    target_size=(256, 256),\n",
    "    color_mode='rgb',\n",
    "    classes=None,\n",
    "    class_mode='categorical',\n",
    "    batch_size=32,\n",
    "    shuffle=True,\n",
    "    seed=None,\n",
    "    save_to_dir=None,\n",
    "    save_prefix='',\n",
    "    save_format='',\n",
    "    follow_links=False,\n",
    "    subset='training',\n",
    "    interpolation='nearest'\n",
    ")\n",
    "flowfromframeVal = train_img_gen.flow_from_directory(\n",
    "    directory='./input/train',\n",
    "    target_size=(256, 256),\n",
    "    color_mode='rgb',\n",
    "    classes=None,\n",
    "    class_mode='categorical',\n",
    "    batch_size=32,\n",
    "    shuffle=True,\n",
    "    seed=None,\n",
    "    save_to_dir=None,\n",
    "    save_prefix='',\n",
    "    save_format='',\n",
    "    follow_links=False,\n",
    "    subset='validation',\n",
    "    interpolation='nearest'\n",
    ")\n",
    "\n",
    "test_img_gen = ImageDataGenerator(\n",
    "   # imported all possible values here and set ones we wont use to default\n",
    "    featurewise_center=False,\n",
    "    samplewise_center=False,\n",
    "    featurewise_std_normalization=False,\n",
    "    samplewise_std_normalization=False,\n",
    "    zca_whitening=False,\n",
    "    zca_epsilon=1e-06,\n",
    "    rotation_range=0,\n",
    "    width_shift_range=0.0,\n",
    "    height_shift_range=0.0,\n",
    "    brightness_range=None,\n",
    "    shear_range=0.0,\n",
    "    zoom_range=0.0,\n",
    "    channel_shift_range=0.0,\n",
    "    # fill mode augmentation, at its default currently (nearest)\n",
    "    fill_mode='nearest',\n",
    "    cval=0.0,\n",
    "    # twoaugmentations randomly flip horizontally and vertically\n",
    "    horizontal_flip=True,\n",
    "    vertical_flip=True,\n",
    "    #rescaling change this value as we need to, unsure what we want it to be set to at the moment\n",
    "    rescale=1,\n",
    "    preprocessing_function=None,\n",
    "    data_format=None,\n",
    "    validation_split=0.0,\n",
    "    dtype=None\n",
    ")\n",
    "\n",
    "flowfromframeTest = test_img_gen.flow_from_directory(\n",
    "    directory='./input/test/',\n",
    "    target_size=(256, 256),\n",
    "    color_mode='rgb',\n",
    "    classes=None,\n",
    "    class_mode='categorical',\n",
    "    batch_size=32,\n",
    "    shuffle=True,\n",
    "    seed=None,\n",
    "    save_to_dir=None,\n",
    "    save_prefix='',\n",
    "    save_format='',\n",
    "    follow_links=False,\n",
    "    interpolation='nearest'\n",
    ")\n",
    "\n",
    "# enumerate through the validation data generator created above and plot first grayscale image \n",
    "# (2)"
   ]
  },
  {
   "cell_type": "markdown",
   "metadata": {},
   "source": [
    "#### Create the model (44/100)"
   ]
  },
  {
   "cell_type": "code",
   "execution_count": 7,
   "metadata": {},
   "outputs": [
    {
     "ename": "AttributeError",
     "evalue": "module 'tensorflow.python.keras.activations' has no attribute 'get'",
     "output_type": "error",
     "traceback": [
      "\u001b[1;31m---------------------------------------------------------------------------\u001b[0m",
      "\u001b[1;31mAttributeError\u001b[0m                            Traceback (most recent call last)",
      "\u001b[1;32mc:\\Users\\Ryan\\Documents\\CSIFInalProj\\assignment_2_students.ipynb Cell 7'\u001b[0m in \u001b[0;36m<module>\u001b[1;34m\u001b[0m\n\u001b[0;32m      <a href='vscode-notebook-cell:/c%3A/Users/Ryan/Documents/CSIFInalProj/assignment_2_students.ipynb#ch0000006?line=2'>3</a>\u001b[0m input_shape \u001b[39m=\u001b[39m (\u001b[39m256\u001b[39m, \u001b[39m256\u001b[39m, \u001b[39m3\u001b[39m)\n\u001b[0;32m      <a href='vscode-notebook-cell:/c%3A/Users/Ryan/Documents/CSIFInalProj/assignment_2_students.ipynb#ch0000006?line=3'>4</a>\u001b[0m model\u001b[39m.\u001b[39madd(layers\u001b[39m.\u001b[39mConv2D(\u001b[39m32\u001b[39m, (\u001b[39m3\u001b[39m, \u001b[39m3\u001b[39m), input_shape\u001b[39m=\u001b[39minput_shape))\n\u001b[1;32m----> <a href='vscode-notebook-cell:/c%3A/Users/Ryan/Documents/CSIFInalProj/assignment_2_students.ipynb#ch0000006?line=4'>5</a>\u001b[0m model\u001b[39m.\u001b[39madd(layers\u001b[39m.\u001b[39;49mActivation(\u001b[39m'\u001b[39;49m\u001b[39mrelu\u001b[39;49m\u001b[39m'\u001b[39;49m))\n\u001b[0;32m      <a href='vscode-notebook-cell:/c%3A/Users/Ryan/Documents/CSIFInalProj/assignment_2_students.ipynb#ch0000006?line=5'>6</a>\u001b[0m model\u001b[39m.\u001b[39madd(layers\u001b[39m.\u001b[39mMaxPooling2D(pool_size\u001b[39m=\u001b[39m(\u001b[39m2\u001b[39m, \u001b[39m2\u001b[39m)))\n\u001b[0;32m      <a href='vscode-notebook-cell:/c%3A/Users/Ryan/Documents/CSIFInalProj/assignment_2_students.ipynb#ch0000006?line=7'>8</a>\u001b[0m model\u001b[39m.\u001b[39madd(layers\u001b[39m.\u001b[39mConv2D(\u001b[39m32\u001b[39m, (\u001b[39m3\u001b[39m, \u001b[39m3\u001b[39m)))\n",
      "File \u001b[1;32m~\\miniconda3\\lib\\site-packages\\tensorflow\\python\\keras\\layers\\core.py:441\u001b[0m, in \u001b[0;36mActivation.__init__\u001b[1;34m(self, activation, **kwargs)\u001b[0m\n\u001b[0;32m    <a href='file:///c%3A/Users/Ryan/miniconda3/lib/site-packages/tensorflow/python/keras/layers/core.py?line=438'>439</a>\u001b[0m \u001b[39msuper\u001b[39m(Activation, \u001b[39mself\u001b[39m)\u001b[39m.\u001b[39m\u001b[39m__init__\u001b[39m(\u001b[39m*\u001b[39m\u001b[39m*\u001b[39mkwargs)\n\u001b[0;32m    <a href='file:///c%3A/Users/Ryan/miniconda3/lib/site-packages/tensorflow/python/keras/layers/core.py?line=439'>440</a>\u001b[0m \u001b[39mself\u001b[39m\u001b[39m.\u001b[39msupports_masking \u001b[39m=\u001b[39m \u001b[39mTrue\u001b[39;00m\n\u001b[1;32m--> <a href='file:///c%3A/Users/Ryan/miniconda3/lib/site-packages/tensorflow/python/keras/layers/core.py?line=440'>441</a>\u001b[0m \u001b[39mself\u001b[39m\u001b[39m.\u001b[39mactivation \u001b[39m=\u001b[39m activations\u001b[39m.\u001b[39;49mget(activation)\n",
      "\u001b[1;31mAttributeError\u001b[0m: module 'tensorflow.python.keras.activations' has no attribute 'get'"
     ]
    }
   ],
   "source": [
    "model = tf.keras.Sequential()\n",
    "\n",
    "input_shape = (256, 256, 3)\n",
    "model.add(layers.Conv2D(32, (3, 3), input_shape=input_shape))\n",
    "model.add(layers.Activation('relu'))\n",
    "model.add(layers.MaxPooling2D(pool_size=(2, 2)))\n",
    "\n",
    "model.add(layers.Conv2D(32, (3, 3)))\n",
    "model.add(layers.Activation('relu'))\n",
    "model.add(layers.MaxPooling2D(pool_size=(2, 2)))\n",
    "\n",
    "model.add(layers.Conv2D(64, (3, 3)))\n",
    "model.add(layers.Activation('relu'))\n",
    "model.add(layers.MaxPooling2D(pool_size=(2, 2)))\n",
    "\n",
    "model.add(layers.Flatten())\n",
    "model.add(layers.Dense(64))\n",
    "model.add(layers.Activation('relu'))\n",
    "model.add(layers.Dropout(0.5))\n",
    "model.add(layers.Dense(1))\n",
    "model.add(layers.Activation('sigmoid'))\n",
    "\n",
    "model.compile(loss='binary_crossentropy',\n",
    "              optimizer='rmsprop',\n",
    "              metrics=['accuracy'])\n",
    "\n",
    "\n",
    "# Instantiate the optimizer with the learning rate. You can start with the learning rate 1e-3(0.001).\n",
    "# Both the optimizer and the learning rate are hyperparameters that you can finetune\n",
    "# For example, you can start with the \"RMSprop\" optimizer\n",
    "# TODO\n",
    "# (2)\n",
    "learn_rate = (0.001)\n",
    "optimizer = tf.keras.optimizers.RMSprop(learning_rate=learn_rate)\n",
    "\n",
    "# specify the losses to be used for each task: age, ethnicity and gender prediction \n",
    "# (0.5)\n",
    "\n",
    "model.compile(loss='binary_crossentropy',\n",
    "              optimizer='rmsprop',\n",
    "              metrics=['accuracy'])\n",
    "\n",
    "# Define the callbacks\n",
    "# EarlyStopping: monitor the validation loss while waiting for 3 epochs before stopping\n",
    "# can restore the best weights\n",
    "# TODO\n",
    "# (2)\n",
    "\n",
    "model_Callbacks = [\n",
    "    tf.keras.callbacks.EarlyStopping(patience=3),\n",
    "]\n",
    "\n",
    "# ModelCheckpoint\n",
    "# monitor validation loss and save the best model weights\n",
    "# TODO\n",
    "# (2)\n",
    "\n",
    "model_checkpoint = tf.keras.callbacks.ModelCheckpoint(\n",
    "    filepath='./data/model',\n",
    "    monitor=\"val_loss\",\n",
    "    verbose=0,\n",
    "    save_best_only=True,\n",
    "    save_weights_only=False,\n",
    "    mode=\"auto\",\n",
    "    save_freq=\"epoch\",\n",
    "    options=None,\n",
    "    initial_value_threshold=None,\n",
    ")\n",
    "model_Callbacks.append(model_checkpoint)\n",
    "\n",
    "# Initiallize TensorBoard\n",
    "# TODO\n",
    "# (2)\n",
    "\n",
    "log_dir = \"./data/logs/\" + datetime.datetime.now().strftime(\"%Y%m%d-%H%M%S\")\n",
    "tensorboard_callback = tf.keras.callbacks.TensorBoard(log_dir=log_dir, histogram_freq=1)\n",
    "\n",
    "# ReduceLROnPlateau\n",
    "# reduce the learning rate by a factor of 0.1 after waiting for 2 epochs while monitoring validation loss\n",
    "# specify a minimum learning rate to be used\n",
    "# TODO\n",
    "# (2)\n",
    "\n",
    "reduceLRCallback = tf.keras.callbacks.ReduceLROnPlateau(\n",
    "    monitor=\"val_loss\",\n",
    "    factor=0.1,\n",
    "    patience=2,\n",
    "    verbose=0,\n",
    "    mode=\"auto\",\n",
    "    min_delta=0.0001,\n",
    "    cooldown=0,\n",
    "    min_lr=0,\n",
    ")\n",
    "model_Callbacks.append(reduceLRCallback)\n",
    "\n",
    "# fit the model with training and validation generators\n",
    "# In addition please specify the following arguments\n",
    "# steps_per_epoch=len(df_train)/batch_size\n",
    "# validation_steps=len(df_val)/batch_size\n",
    "# (5)\n",
    "\n",
    "model.fit(\n",
    "    x=flowfromframeTrain,\n",
    "    y=None,\n",
    "    batch_size=16,\n",
    "    epochs=10,\n",
    "    verbose=1,\n",
    "    callbacks=model_Callbacks,\n",
    "    validation_split=0.0,\n",
    "    validation_data=flowfromframeVal,\n",
    "    shuffle=True,\n",
    "    class_weight=None,\n",
    "    sample_weight=None,\n",
    "    initial_epoch=0,\n",
    "    steps_per_epoch=100,\n",
    "    validation_steps=0,\n",
    "    validation_freq=0,\n",
    "    max_queue_size=10,\n",
    "    workers=1,\n",
    "    use_multiprocessing=False,\n",
    ")\n"
   ]
  },
  {
   "cell_type": "markdown",
   "metadata": {},
   "source": [
    "#### Making predictions on test data (14/100)"
   ]
  },
  {
   "cell_type": "code",
   "execution_count": null,
   "metadata": {},
   "outputs": [
    {
     "name": "stdout",
     "output_type": "stream",
     "text": [
      "35/35 [==============================] - 5s 147ms/step - loss: 0.2555 - accuracy: 0.9414\n",
      "[0.25551971793174744, 0.9413940906524658]\n"
     ]
    }
   ],
   "source": [
    "# evaluate the trained model using the test generator\n",
    "# print only the test accuracy for ethnicity and gender predictions\n",
    "(4)\n",
    "scores = model.evaluate(flowfromframeTest)\n",
    "print(scores)"
   ]
  },
  {
   "cell_type": "code",
   "execution_count": null,
   "metadata": {},
   "outputs": [
    {
     "ename": "NameError",
     "evalue": "name 'model' is not defined",
     "output_type": "error",
     "traceback": [
      "\u001b[1;31m---------------------------------------------------------------------------\u001b[0m",
      "\u001b[1;31mNameError\u001b[0m                                 Traceback (most recent call last)",
      "\u001b[1;32mc:\\Users\\Ryan\\Documents\\CSIFInalProj\\assignment_2_students.ipynb Cell 10'\u001b[0m in \u001b[0;36m<module>\u001b[1;34m\u001b[0m\n\u001b[0;32m      <a href='vscode-notebook-cell:/c%3A/Users/Ryan/Documents/CSIFInalProj/assignment_2_students.ipynb#ch0000009?line=0'>1</a>\u001b[0m \u001b[39m# generate predictions using the test generator\u001b[39;00m\n\u001b[1;32m----> <a href='vscode-notebook-cell:/c%3A/Users/Ryan/Documents/CSIFInalProj/assignment_2_students.ipynb#ch0000009?line=2'>3</a>\u001b[0m predictions \u001b[39m=\u001b[39m model\u001b[39m.\u001b[39mpredict(flowfromframeTest)\n\u001b[0;32m      <a href='vscode-notebook-cell:/c%3A/Users/Ryan/Documents/CSIFInalProj/assignment_2_students.ipynb#ch0000009?line=3'>4</a>\u001b[0m \u001b[39m# extract the ethnicity predictions\u001b[39;00m\n\u001b[0;32m      <a href='vscode-notebook-cell:/c%3A/Users/Ryan/Documents/CSIFInalProj/assignment_2_students.ipynb#ch0000009?line=4'>5</a>\u001b[0m \n\u001b[0;32m      <a href='vscode-notebook-cell:/c%3A/Users/Ryan/Documents/CSIFInalProj/assignment_2_students.ipynb#ch0000009?line=5'>6</a>\u001b[0m \u001b[39m#eth_pred = np.argmax(predictions[0], axis=-1)\u001b[39;00m\n\u001b[1;32m   (...)\u001b[0m\n\u001b[0;32m      <a href='vscode-notebook-cell:/c%3A/Users/Ryan/Documents/CSIFInalProj/assignment_2_students.ipynb#ch0000009?line=8'>9</a>\u001b[0m \n\u001b[0;32m     <a href='vscode-notebook-cell:/c%3A/Users/Ryan/Documents/CSIFInalProj/assignment_2_students.ipynb#ch0000009?line=9'>10</a>\u001b[0m \u001b[39m# extract the gender predictions where probabilities above 0.5 are considered class 1 and if not, class 0\u001b[39;00m\n\u001b[0;32m     <a href='vscode-notebook-cell:/c%3A/Users/Ryan/Documents/CSIFInalProj/assignment_2_students.ipynb#ch0000009?line=10'>11</a>\u001b[0m gen_pred \u001b[39m=\u001b[39m np\u001b[39m.\u001b[39maround(predictions)\n",
      "\u001b[1;31mNameError\u001b[0m: name 'model' is not defined"
     ]
    }
   ],
   "source": [
    "# generate predictions using the test generator\n",
    "\n",
    "predictions = model.predict(flowfromframeTest)\n",
    "# extract the ethnicity predictions\n",
    "\n",
    "#eth_pred = np.argmax(predictions[0], axis=-1)\n",
    "# print the classification report for predicting ethnicity\n",
    "#print(classification_report(flowfromframeTest.index_array, eth_pred))\n",
    "\n",
    "# extract the gender predictions where probabilities above 0.5 are considered class 1 and if not, class 0\n",
    "gen_pred = np.around(predictions)\n",
    "# print the classification report for predicting gender\n",
    "\n",
    "test_labels=flowfromframeTest.labels\n",
    "\n",
    "# get the class with highest probability for each sample\n",
    "y_pred = np.argmax(predictions, axis=-1)\n",
    "\n",
    "# get the classification report\n",
    "print(classification_report(test_labels, y_pred))"
   ]
  },
  {
   "cell_type": "markdown",
   "metadata": {},
   "source": [
    "#### Present prediction results on test data(5/100)"
   ]
  },
  {
   "cell_type": "markdown",
   "metadata": {},
   "source": [
    "Present your findings for 5 different runs by fine-tuning the hyperparameters. The results table must contain the following fields\n",
    "- A minimum of 5 hyperparameters that you have fine-tuned\n",
    "- Mean absolute error for age\n",
    "- Accuracy for ethnicity prediction\n",
    "- Accuracy for gender prediction\n",
    "Please use a table format similar to the one mentioned below when presenting the results.\n",
    "\n",
    "| Hyperparameters | Age(MAE) | Ethnicity(Accuracy)| Gender(Accuracy) |\n",
    "|-----------------|----------|--------------------|------------------|\n",
    "|                 |          |                    |                  |\n",
    "|                 |          |                    |                  |\n",
    "|                 |          |                    |                  |\n",
    "|                 |          |                    |                  |\n",
    "|                 |          |                    |                  |\n"
   ]
  }
 ],
 "metadata": {
  "interpreter": {
   "hash": "fcacb1169d0317e97b762e0c1a317633c556cb59cb1017287d7e24b96b766e04"
  },
  "kernelspec": {
   "display_name": "Python 3.8.12 ('csi4106')",
   "language": "python",
   "name": "python3"
  },
  "language_info": {
   "codemirror_mode": {
    "name": "ipython",
    "version": 3
   },
   "file_extension": ".py",
   "mimetype": "text/x-python",
   "name": "python",
   "nbconvert_exporter": "python",
   "pygments_lexer": "ipython3",
   "version": "3.9.7"
  },
  "orig_nbformat": 4
 },
 "nbformat": 4,
 "nbformat_minor": 2
}
